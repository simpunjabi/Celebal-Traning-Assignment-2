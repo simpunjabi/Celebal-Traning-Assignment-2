{
  "nbformat": 4,
  "nbformat_minor": 0,
  "metadata": {
    "colab": {
      "name": "0perators.ipynb",
      "provenance": [],
      "collapsed_sections": []
    },
    "kernelspec": {
      "name": "python3",
      "display_name": "Python 3"
    },
    "language_info": {
      "name": "python"
    }
  },
  "cells": [
    {
      "cell_type": "code",
      "execution_count": 2,
      "metadata": {
        "colab": {
          "base_uri": "https://localhost:8080/"
        },
        "id": "ZS4QPgSVQxyx",
        "outputId": "b366b479-1548-4f89-b50e-10386fb40dc1"
      },
      "outputs": [
        {
          "output_type": "stream",
          "name": "stdout",
          "text": [
            "Enter first number:50\n",
            "Enter second number70\n",
            "False\n",
            "True\n",
            "True\n",
            "True\n",
            "False\n",
            "False\n"
          ]
        }
      ],
      "source": [
        "#Demonstrate the use of Relational(Comparison)Operator\n",
        "a=int(input(\"Enter first number:\"))\n",
        "b=int(input(\"Enter second number\")) \n",
        "print(a == b)  \n",
        "print(a != b)  \n",
        "print(a <=b)\n",
        "print(a <= b)  \n",
        "print(a > b)   \n",
        "print(a >= b)  "
      ]
    },
    {
      "cell_type": "code",
      "source": [
        "# Python Operators\n",
        "# Arithmetic Operators\n",
        "a = int(input())\n",
        "b = int(input())\n",
        "\n",
        "print(\"Addition Operator: a + b =\",a+b)\n",
        "print(\"Substraction Operator: a - b =\",a-b)\n",
        "print(\"Multiplication Operator: a * b =\",a*b)\n",
        "print(\"Modulus Operator: a % b =\",a%b)\n",
        "print(\"Integer Division Operator: a / b =\",a/b)\n",
        "print(\"Float Division Operator: a + b =\",a//b)\n",
        "print(\"Exponentiation Operator: a ** b =\",a**b)"
      ],
      "metadata": {
        "colab": {
          "base_uri": "https://localhost:8080/"
        },
        "id": "HkWYI8slTqkS",
        "outputId": "8142fdd9-ed89-4cd1-e9cc-25e08d4fdfb5"
      },
      "execution_count": 4,
      "outputs": [
        {
          "output_type": "stream",
          "name": "stdout",
          "text": [
            "5\n",
            "7\n",
            "Addition Operator: a + b = 12\n",
            "Substraction Operator: a - b = -2\n",
            "Multiplication Operator: a * b = 35\n",
            "Modulus Operator: a % b = 5\n",
            "Integer Division Operator: a / b = 0.7142857142857143\n",
            "Float Division Operator: a + b = 0\n",
            "Exponentiation Operator: a ** b = 78125\n"
          ]
        }
      ]
    },
    {
      "cell_type": "code",
      "source": [
        "#Demonstrate the use of Bitwise Operators\n",
        "a = 100        \n",
        "b = 15        \n",
        "c = 0\n",
        "\n",
        "c = a & b;        \n",
        "print(\"Line 1 - Value of c is \", c)\n",
        "\n",
        "c = a | b;        \n",
        "print (\"Line 2 - Value of c is \", c)\n",
        "\n",
        "c = a ^ b;        \n",
        "print (\"Line 3 - Value of c is \", c)\n",
        "\n",
        "c = ~a;           \n",
        "print (\"Line 4 - Value of c is \", c)\n",
        "\n",
        "c = a << 2;       \n",
        "print (\"Line 5 - Value of c is \", c)\n",
        "\n",
        "c = a >> 2;       \n",
        "print (\"Line 6 - Value of c is \", c)"
      ],
      "metadata": {
        "colab": {
          "base_uri": "https://localhost:8080/"
        },
        "id": "DeLOR-tZUgJd",
        "outputId": "ce61fe78-f0b7-4932-e875-a3d6506071a2"
      },
      "execution_count": 6,
      "outputs": [
        {
          "output_type": "stream",
          "name": "stdout",
          "text": [
            "Line 1 - Value of c is  4\n",
            "Line 2 - Value of c is  111\n",
            "Line 3 - Value of c is  107\n",
            "Line 4 - Value of c is  -101\n",
            "Line 5 - Value of c is  400\n",
            "Line 6 - Value of c is  25\n"
          ]
        }
      ]
    },
    {
      "cell_type": "code",
      "source": [
        "#Demonstrate the use of Logical Operators\n",
        "age =int(input(\"Enter age: \"))\n",
        "# AND Example\n",
        "if age < 45 and age > 25:\n",
        "    print (\"Young Man/Women\")\n",
        "else:\n",
        "    print(\" Not Eligible \")\n",
        "\n",
        "# OR Example\n",
        "if age < 18 or age > 60:\n",
        "        print(\" Not Eligible to Work \")\n",
        "else:\n",
        "        print(\" Please forward Your Resume \")"
      ],
      "metadata": {
        "colab": {
          "base_uri": "https://localhost:8080/"
        },
        "id": "oaq6cPFLVl1q",
        "outputId": "e70bb9ee-c3de-4d72-e7e2-aef31e76e7f3"
      },
      "execution_count": 7,
      "outputs": [
        {
          "output_type": "stream",
          "name": "stdout",
          "text": [
            "Enter age: 30\n",
            "Young Man/Women\n",
            " Please forward Your Resume \n"
          ]
        }
      ]
    },
    {
      "cell_type": "code",
      "source": [
        "#Demonstrate the use of assignment Operators\n",
        "a=int(input(\"Enter first number: \"))\n",
        "b=int(input(\"Enter second number \")) \n",
        "c=a\n",
        "print(\"Value of c after assignment the value of a is: \" , c)\n",
        "a+=b\n",
        "print(\"Result of Addition is:\" ,a)\n",
        "a-=b\n",
        "print(\"Result of Substraction is:\" ,a)\n",
        "a*=b\n",
        "print(\"Result of Multiplication is:\" ,a)\n",
        "a/=b\n",
        "print(\"Result of Division is:\" ,a)\n",
        "a**=b\n",
        "print(\"Result of Exponential is:\" ,a)\n",
        "a//=b\n",
        "print(\"Result of Floor Division is:\" ,a)\n",
        "a%=b\n",
        "print(\"Remainder is:\" ,a)"
      ],
      "metadata": {
        "colab": {
          "base_uri": "https://localhost:8080/"
        },
        "id": "7uWRgUivV7ow",
        "outputId": "28da8339-2044-412d-df74-890e9d09af80"
      },
      "execution_count": 8,
      "outputs": [
        {
          "output_type": "stream",
          "name": "stdout",
          "text": [
            "Enter first number: 10\n",
            "Enter second number 20\n",
            "Value of c after assignment the value of a is:  10\n",
            "Result of Addition is: 30\n",
            "Result of Substraction is: 10\n",
            "Result of Multiplication is: 200\n",
            "Result of Division is: 10.0\n",
            "Result of Exponential is: 1e+20\n",
            "Result of Floor Division is: 5e+18\n",
            "Remainder is: 0.0\n"
          ]
        }
      ]
    },
    {
      "cell_type": "code",
      "source": [
        "# Membership Operators\n",
        "# in Operator\n",
        "x = [\"Simran\", \"Gayatri\"]\n",
        "\n",
        "print(\"sameer\" in x)\n",
        "\n",
        "# returns True because a sequence with the value \"banana\" is in the list\n",
        "\n",
        "# not in Operator\n",
        "x = [\"simran\", \"gayatri\"]\n",
        "\n",
        "print(\"pineapple\" not in x)\n",
        "\n",
        "# returns True because a sequence with the value \"pineapple\" is not in the list"
      ],
      "metadata": {
        "colab": {
          "base_uri": "https://localhost:8080/"
        },
        "id": "q_dfx3XWWJ05",
        "outputId": "20f5db2b-2697-40de-9380-0e4bf955e2a6"
      },
      "execution_count": 10,
      "outputs": [
        {
          "output_type": "stream",
          "name": "stdout",
          "text": [
            "False\n",
            "True\n"
          ]
        }
      ]
    },
    {
      "cell_type": "code",
      "source": [
        "#Demonstrate the use of Identity Operators\n",
        "x = '501'\n",
        "y = '502'\n",
        "z = '503'\n",
        "if (x is y):\n",
        "  print ('x is y')\n",
        "else:\n",
        "  print ('x is not y')\n",
        "if (x is z):\n",
        "  print('x is z')\n",
        "else:\n",
        "  print ('x is not z')\n",
        "if (y is z):\n",
        "  print('y is z')\n",
        "else:\n",
        "  print ('y is not z')"
      ],
      "metadata": {
        "colab": {
          "base_uri": "https://localhost:8080/"
        },
        "id": "1bkdZIyJWeqh",
        "outputId": "4776cef5-392e-402a-b957-7227a44b9dc5"
      },
      "execution_count": 11,
      "outputs": [
        {
          "output_type": "stream",
          "name": "stdout",
          "text": [
            "x is not y\n",
            "x is not z\n",
            "y is not z\n"
          ]
        }
      ]
    }
  ]
}